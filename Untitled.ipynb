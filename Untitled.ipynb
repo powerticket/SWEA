{
 "cells": [
  {
   "cell_type": "code",
   "execution_count": 2,
   "metadata": {},
   "outputs": [
    {
     "name": "stdout",
     "output_type": "stream",
     "text": [
      "Summer\n",
      "?\n"
     ]
    }
   ],
   "source": [
    "# 학생 번호에 해당하는 학생 이름 찾기\n",
    "# 입력: 학생 번호 리스트 s_no, 학생 이름 리스트 s_name, 찾는 학생 번호 find_no\n",
    "# 출력: 해당하는 학생 이름, 학생 이름이 없으면 물음표 \"?\"\n",
    "\n",
    "def get_name(s_no, s_name, find_no):\n",
    "    n = len(s_no)  # 입력 크기 n\n",
    "    for i in range(0, n):\n",
    "        if find_no == s_no[i]: # 학생 번호가 찾는 학생 번호와 같으면\n",
    "            return s_name[i]   # 해당하는 학생 이름을 결과로 반환\n",
    "\n",
    "    return \"?\"  # 자료를 다 뒤져서 못 찾았으면 물음표 반환\n",
    "\n",
    "sample_no = [39, 14, 67, 105]\n",
    "sample_name = [\"Justin\", \"John\", \"Mike\", \"Summer\"]\n",
    "print(get_name(sample_no, sample_name, 105))\n",
    "print(get_name(sample_no, sample_name, 777))\n"
   ]
  }
 ],
 "metadata": {
  "kernelspec": {
   "display_name": "Python 3",
   "language": "python",
   "name": "python3"
  },
  "language_info": {
   "codemirror_mode": {
    "name": "ipython",
    "version": 3
   },
   "file_extension": ".py",
   "mimetype": "text/x-python",
   "name": "python",
   "nbconvert_exporter": "python",
   "pygments_lexer": "ipython3",
   "version": "3.7.6"
  }
 },
 "nbformat": 4,
 "nbformat_minor": 4
}
