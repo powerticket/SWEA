{
 "cells": [
  {
   "cell_type": "markdown",
   "metadata": {},
   "source": [
    "# 2-1 최댓값을 구하는 알고리즘"
   ]
  },
  {
   "cell_type": "code",
   "execution_count": 48,
   "metadata": {},
   "outputs": [
    {
     "name": "stdout",
     "output_type": "stream",
     "text": [
      "92\n"
     ]
    }
   ],
   "source": [
    "def find_max(list):\n",
    "    max=list[0]\n",
    "    for i in range(1,len(list)):\n",
    "        if list[i]>max:\n",
    "            max=list[i]\n",
    "    return max\n",
    "l = [17,92,18,33,58,7,33,42]\n",
    "print(find_max(l))"
   ]
  },
  {
   "cell_type": "markdown",
   "metadata": {},
   "source": [
    "# 2-2 최댓값의 위치를 구하는 알고리즘"
   ]
  },
  {
   "cell_type": "code",
   "execution_count": 49,
   "metadata": {},
   "outputs": [
    {
     "name": "stdout",
     "output_type": "stream",
     "text": [
      "1\n",
      "92\n"
     ]
    }
   ],
   "source": [
    "def find_maxn(list):\n",
    "    max=list[0]\n",
    "    maxn=0\n",
    "    for i in range(1,len(list)):\n",
    "        if list[i]>max:\n",
    "            max=list[i]\n",
    "            maxn=i\n",
    "    return maxn\n",
    "l = [17,92,18,33,58,7,33,42]\n",
    "print(find_maxn(l))\n",
    "print(l[find_maxn(l)])"
   ]
  },
  {
   "cell_type": "markdown",
   "metadata": {},
   "source": [
    "# 연습문제"
   ]
  },
  {
   "cell_type": "markdown",
   "metadata": {},
   "source": [
    "# 2-1 숫자 n개를 리스트로 입력받아 최솟값을 구하는 프로그램을 만들어 보세요."
   ]
  },
  {
   "cell_type": "code",
   "execution_count": 109,
   "metadata": {},
   "outputs": [
    {
     "name": "stdout",
     "output_type": "stream",
     "text": [
      "7\n"
     ]
    }
   ],
   "source": [
    "def find_min(list):\n",
    "    min_idx=0\n",
    "    for i in range(1,len(list)):\n",
    "        if list[i]<list[min_idx]:\n",
    "            min_idx=i\n",
    "    return min_idx\n",
    "l = [17,92,18,33,58,7,33,42]\n",
    "print(l[find_min(l)])"
   ]
  },
  {
   "cell_type": "markdown",
   "metadata": {},
   "source": [
    "# 실습"
   ]
  },
  {
   "cell_type": "markdown",
   "metadata": {},
   "source": [
    "# 2-1 동명이인을 찾는 알고리즘"
   ]
  },
  {
   "cell_type": "code",
   "execution_count": 123,
   "metadata": {},
   "outputs": [
    {
     "name": "stdout",
     "output_type": "stream",
     "text": [
      "{'Tom'}\n",
      "{'Mike', 'Tom'}\n"
     ]
    }
   ],
   "source": [
    "def find_same_name(list):\n",
    "    n = len(list)\n",
    "    same_name_list=set()\n",
    "    for i in range(n-1):\n",
    "        for j in range(i+1,n):\n",
    "            if list[i]==list[j]:\n",
    "                same_name_list.add(list[i])\n",
    "    return same_name_list\n",
    "\n",
    "list=[\"Tom\",\"Jerry\",\"Mike\",\"Tom\"]\n",
    "list2=[\"Tom\",\"Jerry\",\"Mike\",\"Tom\",\"Mike\"]\n",
    "print(find_same_name(list))\n",
    "print(find_same_name(list2))"
   ]
  },
  {
   "cell_type": "markdown",
   "metadata": {},
   "source": [
    "#  연습문제"
   ]
  },
  {
   "cell_type": "markdown",
   "metadata": {},
   "source": [
    "# 3-1"
   ]
  },
  {
   "cell_type": "code",
   "execution_count": 134,
   "metadata": {},
   "outputs": [
    {
     "name": "stdout",
     "output_type": "stream",
     "text": [
      "{'Jerry - Mike', 'Tom - Jerry', 'Tom - Mike'}\n",
      "{'Tom - Mike', 'Tom - John', 'Mike - John', 'Jerry - John', 'Jerry - Mike', 'Tom - Jerry'}\n"
     ]
    },
    {
     "data": {
      "text/plain": [
       "6"
      ]
     },
     "execution_count": 134,
     "metadata": {},
     "output_type": "execute_result"
    }
   ],
   "source": [
    "def find_pair(list):\n",
    "    n=len(list)\n",
    "    pair=set()\n",
    "    for i in range(n-1):\n",
    "        for j in range(i+1,n):\n",
    "            pair.add(list[i]+\" - \"+list[j])\n",
    "    return pair\n",
    "list=[\"Tom\",\"Jerry\",\"Mike\"]\n",
    "list2=[\"Tom\", \"Jerry\", \"Mike\", \"John\"]\n",
    "print(find_pair(list))\n",
    "print(find_pair(list2))\n",
    "len(find_pair(list2))"
   ]
  },
  {
   "cell_type": "code",
   "execution_count": 132,
   "metadata": {},
   "outputs": [
    {
     "name": "stdout",
     "output_type": "stream",
     "text": [
      "Tom - Jerry\n",
      "Tom - Mike\n",
      "Jerry - Mike\n",
      "\n",
      "Tom - Jerry\n",
      "Tom - Mike\n",
      "Tom - John\n",
      "Jerry - Mike\n",
      "Jerry - John\n",
      "Mike - John\n"
     ]
    }
   ],
   "source": [
    "def print_pairs(a):\n",
    "    n = len(a)  # 리스트의 자료 개수를 n에 저장\n",
    "    for i in range(0, n - 1):      # 0부터 n-2까지 반복\n",
    "        for j in range(i + 1, n):  # i+1부터 n-1까지 반복\n",
    "            print(a[i], \"-\", a[j])\n",
    "\n",
    "name = [\"Tom\", \"Jerry\", \"Mike\"]\n",
    "print_pairs(name)\n",
    "print()\n",
    "name2 = [\"Tom\", \"Jerry\", \"Mike\", \"John\"]\n",
    "print_pairs(name2)"
   ]
  },
  {
   "cell_type": "markdown",
   "metadata": {},
   "source": [
    "# 4-1"
   ]
  },
  {
   "cell_type": "code",
   "execution_count": 138,
   "metadata": {},
   "outputs": [
    {
     "name": "stdout",
     "output_type": "stream",
     "text": [
      "1\n",
      "1\n",
      "120\n",
      "3628800\n"
     ]
    }
   ],
   "source": [
    "def fact(n):\n",
    "    f=1\n",
    "    for i in range(1,n+1):\n",
    "        f=f*i\n",
    "    return f\n",
    "print(fact(0))\n",
    "print(fact(1))\n",
    "print(fact(5))\n",
    "print(fact(10))"
   ]
  },
  {
   "cell_type": "markdown",
   "metadata": {},
   "source": [
    "# 4-2"
   ]
  },
  {
   "cell_type": "code",
   "execution_count": 3,
   "metadata": {},
   "outputs": [],
   "source": [
    "def hello():\n",
    "    print(\"hello\")\n",
    "    hello()"
   ]
  },
  {
   "cell_type": "code",
   "execution_count": 5,
   "metadata": {},
   "outputs": [
    {
     "name": "stdout",
     "output_type": "stream",
     "text": [
      "1\n",
      "1\n",
      "120\n",
      "3628800\n"
     ]
    }
   ],
   "source": [
    "def fact(n):\n",
    "    if n <= 1:\n",
    "        return 1\n",
    "    return n * fact(n - 1)\n",
    "print(fact(0))\n",
    "print(fact(1))\n",
    "print(fact(5))\n",
    "print(fact(10))"
   ]
  },
  {
   "cell_type": "markdown",
   "metadata": {},
   "source": [
    "# 연습문제"
   ]
  },
  {
   "cell_type": "markdown",
   "metadata": {},
   "source": [
    "# 4-1"
   ]
  },
  {
   "cell_type": "code",
   "execution_count": 11,
   "metadata": {},
   "outputs": [
    {
     "name": "stdout",
     "output_type": "stream",
     "text": [
      "0\n",
      "0\n",
      "0\n",
      "1\n",
      "6\n",
      "15\n",
      "55\n",
      "210\n"
     ]
    }
   ],
   "source": [
    "def sum(n):\n",
    "    if n <= 0:\n",
    "        return 0\n",
    "    return n + sum(n - 1)\n",
    "print(sum(0))\n",
    "print(sum(1))\n",
    "print(sum(3))\n",
    "print(sum(5))\n",
    "print(sum(10))\n",
    "print(sum(20))"
   ]
  },
  {
   "cell_type": "markdown",
   "metadata": {},
   "source": [
    "# 4-2"
   ]
  },
  {
   "cell_type": "code",
   "execution_count": 2,
   "metadata": {},
   "outputs": [
    {
     "ename": "SyntaxError",
     "evalue": "unexpected EOF while parsing (<ipython-input-2-f5aec219fdb0>, line 10)",
     "output_type": "error",
     "traceback": [
      "\u001b[1;36m  File \u001b[1;32m\"<ipython-input-2-f5aec219fdb0>\"\u001b[1;36m, line \u001b[1;32m10\u001b[0m\n\u001b[1;33m    print(find_max(list,8)\u001b[0m\n\u001b[1;37m                          ^\u001b[0m\n\u001b[1;31mSyntaxError\u001b[0m\u001b[1;31m:\u001b[0m unexpected EOF while parsing\n"
     ]
    }
   ],
   "source": [
    "def find_max(a,n):\n",
    "    max=a[0]\n",
    "    if n == 1:\n",
    "        return max\n",
    "    if a[n]>a[n-1]:\n",
    "        max=a[n]\n",
    "        return max\n",
    "    return find_max(a,n-1)\n",
    "list=[17,82,18,33,58,7,33,42]\n",
    "print(find_max(list,8)"
   ]
  },
  {
   "cell_type": "code",
   "execution_count": 43,
   "metadata": {},
   "outputs": [
    {
     "name": "stdout",
     "output_type": "stream",
     "text": [
      "17\n",
      "92\n",
      "92\n",
      "92\n",
      "92\n",
      "92\n",
      "92\n",
      "92\n"
     ]
    }
   ],
   "source": [
    "# 최댓값 구하기\n",
    "# 입력: 숫자가 n개 들어 있는 리스트\n",
    "# 출력: 숫자 n개 중 최댓값\n",
    "\n",
    "def find_max(a, n):  # 리스트 a의 앞부분 n개 중 최댓값을 구하는 재귀 함수\n",
    "    if n == 1:\n",
    "        return a[0]\n",
    "    max_n_1 = find_max(a, n - 1) # n-1개 중 최댓값을 구함\n",
    "    print(max_n_1)\n",
    "    if max_n_1 > a[n - 1]:       # n-1개 중 최댓값과 n-1번 위치 값을 비교\n",
    "        return max_n_1\n",
    "    else:\n",
    "        return a[n - 1]\n",
    "\n",
    "v = [17, 92, 18, 33, 58, 7, 33, 42]\n",
    "print(find_max(v, len(v)))  # 함수에 리스트의 자료 갯수를 인자로 추가하여 호출"
   ]
  },
  {
   "cell_type": "markdown",
   "metadata": {},
   "source": [
    "# 5-1 최대공약수를 구하는 알고리즘"
   ]
  },
  {
   "cell_type": "code",
   "execution_count": 15,
   "metadata": {},
   "outputs": [
    {
     "name": "stdout",
     "output_type": "stream",
     "text": [
      "1\n",
      "3\n",
      "12\n",
      "27\n"
     ]
    }
   ],
   "source": [
    "def find_gcd(a,b):\n",
    "    i=min(a,b)\n",
    "    while True:\n",
    "        if a % i == 0 and b % i == 0:\n",
    "            return i\n",
    "        i = i - 1\n",
    "\n",
    "print(find_gcd(1,5))\n",
    "print(find_gcd(3,6))\n",
    "print(find_gcd(60,24))\n",
    "print(find_gcd(81,27))"
   ]
  },
  {
   "cell_type": "code",
   "execution_count": 44,
   "metadata": {},
   "outputs": [
    {
     "name": "stdout",
     "output_type": "stream",
     "text": [
      "1\n",
      "3\n",
      "12\n",
      "27\n"
     ]
    }
   ],
   "source": [
    "def gcd(a, b):\n",
    "    if b == 0:\n",
    "        return a\n",
    "    return gcd(min(a, b), max(a, b) % min(a, b))\n",
    "\n",
    "print(gcd(1, 5))\n",
    "print(gcd(3, 6))\n",
    "print(gcd(60, 24))\n",
    "print(gcd(81, 27))\n",
    "    "
   ]
  },
  {
   "cell_type": "markdown",
   "metadata": {},
   "source": [
    "# 연습문제"
   ]
  },
  {
   "cell_type": "markdown",
   "metadata": {},
   "source": [
    "# 5-1"
   ]
  },
  {
   "cell_type": "code",
   "execution_count": 55,
   "metadata": {},
   "outputs": [
    {
     "name": "stdout",
     "output_type": "stream",
     "text": [
      "13\n",
      "55\n"
     ]
    }
   ],
   "source": [
    "def fibo(n):\n",
    "    if n <= 1:\n",
    "        return n\n",
    "    return fibo(n - 1) + fibo(n - 2)\n",
    "\n",
    "print(fibo(7))\n",
    "print(fibo(10))"
   ]
  },
  {
   "cell_type": "code",
   "execution_count": 56,
   "metadata": {},
   "outputs": [
    {
     "name": "stdout",
     "output_type": "stream",
     "text": [
      "13\n",
      "55\n"
     ]
    }
   ],
   "source": [
    "# n번째 피보나치 수열 찾기\n",
    "# 입력: n값(0부터 시작)\n",
    "# 출력: n번째 피보나치 수열 값\n",
    "\n",
    "def fibo(n):\n",
    "    if n <= 1:\n",
    "        return n  # n = 0 -> 0 | n = 1 -> 1\n",
    "    return fibo(n - 2) + fibo(n - 1)\n",
    "\n",
    "print(fibo(7))\n",
    "print(fibo(10))"
   ]
  },
  {
   "cell_type": "markdown",
   "metadata": {},
   "source": [
    "# 6-1"
   ]
  },
  {
   "cell_type": "code",
   "execution_count": 60,
   "metadata": {},
   "outputs": [
    {
     "name": "stdout",
     "output_type": "stream",
     "text": [
      "n = 1\n",
      "1 -> 3\n",
      "n = 2\n",
      "1 -> 2\n",
      "1 -> 3\n",
      "2 -> 3\n",
      "n = 3\n",
      "1 -> 3\n",
      "1 -> 2\n",
      "3 -> 2\n",
      "1 -> 3\n",
      "2 -> 1\n",
      "2 -> 3\n",
      "1 -> 3\n"
     ]
    }
   ],
   "source": [
    "def hanoi(n, from_pos, to_pos, aux_pos):\n",
    "    if n == 1:\n",
    "        print(from_pos, \"->\", to_pos)\n",
    "        return\n",
    "    hanoi(n - 1, from_pos, aux_pos, to_pos)\n",
    "    print(from_pos, \"->\", to_pos)\n",
    "    hanoi(n - 1, aux_pos, to_pos, from_pos)\n",
    "\n",
    "print(\"n = 1\")\n",
    "hanoi(1, 1, 3, 2)\n",
    "print(\"n = 2\")\n",
    "hanoi(2, 1, 3, 2)\n",
    "print(\"n = 3\")\n",
    "hanoi(3, 1, 3, 2)"
   ]
  },
  {
   "cell_type": "markdown",
   "metadata": {},
   "source": [
    "# 연습문제"
   ]
  },
  {
   "cell_type": "markdown",
   "metadata": {},
   "source": [
    "# 6-1"
   ]
  },
  {
   "cell_type": "code",
   "execution_count": 77,
   "metadata": {},
   "outputs": [],
   "source": [
    "import turtle as t\n",
    "def spiral(sp_len):\n",
    "    if sp_len <= 5:\n",
    "        return\n",
    "    t.forward(sp_len)\n",
    "    t.right(90)\n",
    "    spiral(sp_len - 5)\n",
    "t.speed(0)\n",
    "spiral(200)\n",
    "t.hideturtle()\n",
    "t.done()"
   ]
  },
  {
   "cell_type": "markdown",
   "metadata": {},
   "source": [
    "# 7-1"
   ]
  },
  {
   "cell_type": "code",
   "execution_count": 1,
   "metadata": {},
   "outputs": [
    {
     "name": "stdout",
     "output_type": "stream",
     "text": [
      "2\n",
      "3\n",
      "-1\n"
     ]
    }
   ],
   "source": [
    "def search_list(a, x):\n",
    "    n = len(a)\n",
    "    for i in range(0, n):\n",
    "        if x == a[i]:\n",
    "            return i\n",
    "    return -1\n",
    "\n",
    "v = [17, 92, 18, 33, 58, 7, 33, 42]\n",
    "print(search_list(v, 18))\n",
    "print(search_list(v, 33))\n",
    "print(search_list(v, 900))"
   ]
  },
  {
   "cell_type": "markdown",
   "metadata": {},
   "source": [
    "# 연습문제"
   ]
  },
  {
   "cell_type": "markdown",
   "metadata": {},
   "source": [
    "# 7-1"
   ]
  },
  {
   "cell_type": "code",
   "execution_count": 19,
   "metadata": {},
   "outputs": [
    {
     "name": "stdout",
     "output_type": "stream",
     "text": [
      "[2]\n",
      "[3, 6]\n",
      "[]\n"
     ]
    }
   ],
   "source": [
    "def find_all(str, v):\n",
    "    list = []\n",
    "    for i in range(len(str)):\n",
    "        if v == str[i]:\n",
    "            list.append(i)\n",
    "    return list\n",
    "\n",
    "v = [17, 92, 18, 33, 58, 7, 33, 42]\n",
    "print(find_all(v, 18))\n",
    "print(find_all(v, 33))\n",
    "print(find_all(v, 900))"
   ]
  },
  {
   "cell_type": "code",
   "execution_count": 25,
   "metadata": {},
   "outputs": [
    {
     "name": "stdout",
     "output_type": "stream",
     "text": [
      "Summer\n",
      "?\n"
     ]
    }
   ],
   "source": [
    "def get_name(num, name, v):\n",
    "    for i in range(len(num)):\n",
    "        if v == num[i]:\n",
    "            return name[i]\n",
    "    return '?'\n",
    "\n",
    "sample_no = [39, 14, 67, 105]\n",
    "sample_name = [\"Justin\", \"John\", \"Mike\", \"Summer\"]\n",
    "print(get_name(sample_no, sample_name, 105))\n",
    "print(get_name(sample_no, sample_name, 777))"
   ]
  },
  {
   "cell_type": "markdown",
   "metadata": {},
   "source": [
    "# 8-1"
   ]
  },
  {
   "cell_type": "code",
   "execution_count": 45,
   "metadata": {},
   "outputs": [
    {
     "name": "stdout",
     "output_type": "stream",
     "text": [
      "[1, 2, 3, 4, 5, 11, 11, 13, 19, 25]\n"
     ]
    }
   ],
   "source": [
    "def find_min_idx(a):\n",
    "    n = len(a)\n",
    "    min_idx=0\n",
    "    for i in range(1, n):\n",
    "        if a[i] < a[min_idx]:\n",
    "            min_idx = i\n",
    "    return min_idx\n",
    "\n",
    "def sel_sort(a):\n",
    "    result = []\n",
    "    while a:\n",
    "        min_idx = find_min_idx(a)\n",
    "        result.append(a.pop(min_idx))\n",
    "    return result\n",
    "\n",
    "d = [2, 4, 5, 1, 3, 19, 25, 11, 13, 11]\n",
    "print(sel_sort(d))"
   ]
  },
  {
   "cell_type": "markdown",
   "metadata": {},
   "source": [
    "# 8-2"
   ]
  },
  {
   "cell_type": "code",
   "execution_count": 171,
   "metadata": {},
   "outputs": [
    {
     "name": "stdout",
     "output_type": "stream",
     "text": [
      "[1, 2, 3, 4, 5, 11, 11, 13, 19, 25]\n",
      "[1, 2, 3, 4, 5, 11, 11, 13, 19, 25]\n"
     ]
    }
   ],
   "source": [
    "def sel_sort(a):\n",
    "    n = len(a)\n",
    "    for i in range(n - 1):\n",
    "        min_idx = i\n",
    "        for j in range(i + 1, n):\n",
    "            if a[j] < a[min_idx]:\n",
    "                min_idx = j\n",
    "        a[min_idx], a[i] = a[i], a[min_idx]\n",
    "    return a\n",
    "d = [2, 4, 5, 1, 3, 19, 25, 11, 13, 11]\n",
    "print(sel_sort(d))\n",
    "print((((d))))"
   ]
  },
  {
   "cell_type": "markdown",
   "metadata": {},
   "source": [
    "# 연습문제"
   ]
  },
  {
   "cell_type": "markdown",
   "metadata": {},
   "source": [
    "# 8-2"
   ]
  },
  {
   "cell_type": "code",
   "execution_count": 181,
   "metadata": {},
   "outputs": [
    {
     "name": "stdout",
     "output_type": "stream",
     "text": [
      "[25, 19, 13, 11, 11, 5, 4, 3, 2, 1]\n"
     ]
    }
   ],
   "source": [
    "def sel_sort(a):\n",
    "    n = len(a)\n",
    "    for i in range(n - 1):\n",
    "        max_idx = i\n",
    "        for j in range(i + 1, n):\n",
    "            if a[j] > a[max_idx]:\n",
    "                max_idx = j\n",
    "        a[i], a[max_idx] = a[max_idx], a[i]\n",
    "\n",
    "d = [2, 4, 5, 1, 3, 19, 25, 11, 13, 11]\n",
    "sel_sort(d)\n",
    "print(d)"
   ]
  },
  {
   "cell_type": "code",
   "execution_count": 182,
   "metadata": {},
   "outputs": [
    {
     "name": "stdout",
     "output_type": "stream",
     "text": [
      "[25, 19, 13, 11, 11, 5, 4, 3, 2, 1]\n"
     ]
    }
   ],
   "source": [
    "def sel_sort(a):\n",
    "    n = len(a)\n",
    "    for i in range(0, n - 1):\n",
    "        max_idx = i  # 최솟값(min) 대신 최댓값(max)을 찾아야 함\n",
    "        for j in range(i + 1, n):\n",
    "            if a[j] > a[max_idx]:  # 부등호 방향 뒤집기\n",
    "                max_idx = j\n",
    "        a[i], a[max_idx] = a[max_idx], a[i]\n",
    "\n",
    "d = [2, 4, 5, 1, 3, 19, 25, 11, 13, 11]\n",
    "sel_sort(d)\n",
    "print(d)"
   ]
  },
  {
   "cell_type": "markdown",
   "metadata": {},
   "source": [
    "# 9-1"
   ]
  },
  {
   "cell_type": "code",
   "execution_count": 186,
   "metadata": {},
   "outputs": [
    {
     "name": "stdout",
     "output_type": "stream",
     "text": [
      "[1, 2, 3, 4, 5, 11, 11, 13, 19, 25]\n"
     ]
    }
   ],
   "source": [
    "def find_ins_idx(r, v):\n",
    "    for i in range(len(r)):\n",
    "        if v < r[i]:\n",
    "            return i\n",
    "    return len(r)\n",
    "\n",
    "def ins_sort(a):\n",
    "    result = []\n",
    "    while a:\n",
    "        value = a.pop(0)\n",
    "        ins_idx = find_ins_idx(result, value)\n",
    "        result.insert(ins_idx, value)\n",
    "    return result\n",
    "\n",
    "d = [2, 4, 5, 1, 3, 19, 25, 11, 13, 11]\n",
    "print(ins_sort(d))"
   ]
  },
  {
   "cell_type": "markdown",
   "metadata": {},
   "source": [
    "# 9-2"
   ]
  },
  {
   "cell_type": "code",
   "execution_count": 203,
   "metadata": {},
   "outputs": [
    {
     "name": "stdout",
     "output_type": "stream",
     "text": [
      "[1, 2, 3, 4, 5, 11, 11, 13, 19, 25]\n"
     ]
    }
   ],
   "source": [
    "def ins_sort(a):\n",
    "    n = len(a)\n",
    "    for i in range(1, n):\n",
    "        key = a[i]\n",
    "        j = i - 1\n",
    "        while j >= 0 and a[j] > key:\n",
    "            a[j + 1] = a[j]\n",
    "            j -= 1\n",
    "        a[j + 1] = key\n",
    "        \n",
    "d = [2, 4, 5, 1, 3, 19, 25, 11, 13, 11]\n",
    "ins_sort(d)\n",
    "print(d)"
   ]
  },
  {
   "cell_type": "markdown",
   "metadata": {},
   "source": [
    "# 10-1"
   ]
  },
  {
   "cell_type": "code",
   "execution_count": 207,
   "metadata": {},
   "outputs": [
    {
     "name": "stdout",
     "output_type": "stream",
     "text": [
      "[1, 2, 3, 4, 5, 11, 11, 13, 19, 25]\n"
     ]
    }
   ],
   "source": [
    "def merge_sort(a):\n",
    "    n = len(a)\n",
    "    if n <= 1:\n",
    "        return a\n",
    "    mid = n // 2\n",
    "    g1 = merge_sort(a[:mid])\n",
    "    g2 = merge_sort(a[mid:])\n",
    "    \n",
    "    result = []\n",
    "    while g1 and g2:\n",
    "        if g1[0] <= g2[0]:\n",
    "            result.append(g1[0])\n",
    "            g1.pop(0)\n",
    "        else:\n",
    "            result.append(g2[0])\n",
    "            g2.pop(0)\n",
    "    while g1:\n",
    "        result.append(g1[0])\n",
    "        g1.pop(0)\n",
    "    while g2:\n",
    "        result.append(g2[0])\n",
    "        g2.pop(0)\n",
    "    return result\n",
    "\n",
    "d = [2, 4, 5, 1, 3, 19, 25, 11, 13, 11]\n",
    "print(merge_sort(d))"
   ]
  },
  {
   "cell_type": "markdown",
   "metadata": {},
   "source": [
    "# 10-2"
   ]
  },
  {
   "cell_type": "code",
   "execution_count": 281,
   "metadata": {},
   "outputs": [
    {
     "name": "stdout",
     "output_type": "stream",
     "text": [
      "[1, 2, 3, 4, 5, 11, 11, 13, 19, 25]\n"
     ]
    }
   ],
   "source": [
    "def merge_sort(a):\n",
    "\n",
    "    n = len(a)\n",
    "    \n",
    "    if n <= 1:\n",
    "        return\n",
    "    \n",
    "    mid = n // 2\n",
    "    g1 = a[:mid]\n",
    "    g2 = a[mid:]\n",
    "    merge_sort(g1)\n",
    "    merge_sort(g2)\n",
    "\n",
    "    \n",
    "    i1 = 0\n",
    "    i2 = 0\n",
    "    ia = 0\n",
    "    \n",
    "    while i1 < len(g1) and i2 < len(g2):\n",
    "        if g1[i1] < g2[i2]:\n",
    "            a[ia] = g1[i1]\n",
    "            i1 += 1\n",
    "            ia += 1\n",
    "        else:\n",
    "            a[ia] = g2[i2]\n",
    "            i2 += 1\n",
    "            ia += 1\n",
    "            \n",
    "    while i1 < len(g1):\n",
    "        a[ia] = g1[i1]\n",
    "        i1 += 1\n",
    "        ia += 1\n",
    "    \n",
    "    while i2 < len(g2):\n",
    "        a[ia] = g2[i2]\n",
    "        i2 += 1\n",
    "        ia += 1\n",
    "\n",
    "\n",
    "d = [2, 4, 5, 1, 3, 19, 25, 11, 13, 11]\n",
    "merge_sort(d)\n",
    "print(d)"
   ]
  },
  {
   "cell_type": "markdown",
   "metadata": {},
   "source": [
    "# 11-1"
   ]
  },
  {
   "cell_type": "code",
   "execution_count": 282,
   "metadata": {},
   "outputs": [
    {
     "name": "stdout",
     "output_type": "stream",
     "text": [
      "[1, 2, 3, 4, 5, 11, 11, 13, 19, 25]\n"
     ]
    }
   ],
   "source": [
    "def quick_sort(a):\n",
    "    \n",
    "    n = len(a)\n",
    "    \n",
    "    if n <= 1:\n",
    "        return a\n",
    "    \n",
    "    pivot = a[-1]\n",
    "    g1 = []\n",
    "    g2 = []\n",
    "    for i in range(0, n - 1):\n",
    "        if a[i] < pivot:\n",
    "            g1.append(a[i])\n",
    "        else:\n",
    "            g2.append(a[i])\n",
    "    return quick_sort(g1) + [pivot] + quick_sort(g2)\n",
    "\n",
    "d = [2, 4, 5, 1, 3, 19, 25, 11, 13, 11]\n",
    "print(quick_sort(d))"
   ]
  },
  {
   "cell_type": "code",
   "execution_count": 283,
   "metadata": {},
   "outputs": [
    {
     "name": "stdout",
     "output_type": "stream",
     "text": [
      "[1, 2, 3, 4, 5, 11, 11, 13, 19, 25]\n"
     ]
    }
   ],
   "source": [
    "def quick_sort_sub(a, start, end):\n",
    "    if end - start <= 0:\n",
    "        return\n",
    "    pivot = a[end]\n",
    "    i = start\n",
    "    for j in range(start, end):\n",
    "        if a[j] <= pivot:\n",
    "            a[i], a[j] = a[j], a[i]\n",
    "            i += 1\n",
    "    a[i], a[end] = a[end], a[i]\n",
    "    \n",
    "    quick_sort_sub(a, start, i - 1)\n",
    "    quick_sort_sub(a, i + 1, end)\n",
    "    \n",
    "def quick_sort(a):\n",
    "    quick_sort_sub(a, 0, len(a) - 1)\n",
    "\n",
    "d = [2, 4, 5, 1, 3, 19, 25, 11, 13, 11]\n",
    "quick_sort(d)\n",
    "print(d)"
   ]
  },
  {
   "cell_type": "markdown",
   "metadata": {},
   "source": [
    "# 12-1"
   ]
  },
  {
   "cell_type": "code",
   "execution_count": 2,
   "metadata": {},
   "outputs": [
    {
     "name": "stdout",
     "output_type": "stream",
     "text": [
      "5\n",
      "-1\n"
     ]
    }
   ],
   "source": [
    "def binary_search(a, x):\n",
    "    \n",
    "    start = 0\n",
    "    end = len(a) - 1\n",
    "    \n",
    "    while start <= end:\n",
    "        mid = (start + end) // 2\n",
    "        if x == a[mid]:\n",
    "            return mid\n",
    "        elif x > a[mid]:\n",
    "            start = mid + 1\n",
    "        else:\n",
    "            end = mid - 1\n",
    "    \n",
    "    return -1\n",
    "\n",
    "d = [1, 4, 9, 16, 25, 36, 49, 64, 81]\n",
    "print(binary_search(d, 36))\n",
    "print(binary_search(d, 50))"
   ]
  },
  {
   "cell_type": "markdown",
   "metadata": {},
   "source": [
    "# 연습문제"
   ]
  },
  {
   "cell_type": "markdown",
   "metadata": {},
   "source": [
    "# 12-1"
   ]
  },
  {
   "cell_type": "code",
   "execution_count": 48,
   "metadata": {},
   "outputs": [
    {
     "name": "stdout",
     "output_type": "stream",
     "text": [
      "5\n",
      "-1\n"
     ]
    },
    {
     "data": {
      "text/plain": [
       "[]"
      ]
     },
     "execution_count": 48,
     "metadata": {},
     "output_type": "execute_result"
    }
   ],
   "source": [
    "def binary_search(a, x, start, end):\n",
    "    if start > end:\n",
    "        return -1\n",
    "    \n",
    "    mid = (start + end) // 2\n",
    "    \n",
    "    if x == a[mid]:\n",
    "        return mid\n",
    "    \n",
    "    elif x > a[mid]:\n",
    "        return binary_search(a, x, mid + 1, end)\n",
    "    \n",
    "    else:\n",
    "        return binary_search(a, x, start, mid - 1)\n",
    "    \n",
    "    \n",
    "d = [1, 4, 9, 16, 25, 36, 49, 64, 81]\n",
    "print(binary_search(d, 36, 0, len(d) - 1))\n",
    "print(binary_search(d, 50, 0, len(d) - 1))\n",
    "d[5:5]"
   ]
  },
  {
   "cell_type": "code",
   "execution_count": 49,
   "metadata": {},
   "outputs": [
    {
     "name": "stdout",
     "output_type": "stream",
     "text": [
      "5\n",
      "-1\n"
     ]
    }
   ],
   "source": [
    "# 리스트에서 특정 숫자 위치 찾기(이분 탐색과 재귀 호출)\n",
    "# 입력: 리스트 a, 찾는 값 x \n",
    "# 출력: 특정 숫자를 찾으면 그 값의 위치, 찾지 못하면 -1\n",
    "\n",
    "# 리스트 a의 어디부터(start) 어디까지(end)가 탐색 범위인지 지정하여\n",
    "# 그 범위 안에서 x를 찾는 재귀 함수\n",
    "def binary_search_sub(a, x, start, end):\n",
    "    # 종료 조건: 남은 탐색 범위가 비었으면 종료\n",
    "    if start > end:\n",
    "        return -1\n",
    "    \n",
    "    mid = (start + end) // 2  # 탐색 범위의 중간 위치\n",
    "    if x == a[mid]:   # 발견!\n",
    "        return mid\n",
    "    elif x > a[mid]:  # 찾는 값이 더 크면 중간을 기준으로 오른쪽 값을 대상으로 재귀 호출\n",
    "        return binary_search_sub(a, x, mid + 1, end)\n",
    "    else:             # 찾는 값이 더 작으면 중간을 기준으로 왼쪽 값을 대상으로 재귀 호출\n",
    "        return binary_search_sub(a, x, start, mid - 1)\n",
    "    \n",
    "    return -1         # 찾지 못했을 때\n",
    "\n",
    "# 리스트 전체(0 ~ len(a)-1)를 대상으로 재귀 호출 함수 호출\n",
    "def binary_search(a, x):\n",
    "    return binary_search_sub(a, x, 0, len(a) - 1)\n",
    "\n",
    "d = [1, 4, 9, 16, 25, 36, 49, 64, 81]\n",
    "print(binary_search(d, 36))\n",
    "print(binary_search(d, 50))"
   ]
  },
  {
   "cell_type": "markdown",
   "metadata": {},
   "source": [
    "# 13-1 회문 찾기 알고리즘"
   ]
  },
  {
   "cell_type": "code",
   "execution_count": 52,
   "metadata": {},
   "outputs": [
    {
     "name": "stdout",
     "output_type": "stream",
     "text": [
      "True\n",
      "True\n",
      "False\n"
     ]
    }
   ],
   "source": [
    "def palindrome(s):\n",
    "    qu = []\n",
    "    st = []\n",
    "    \n",
    "    for x in s:\n",
    "        if x.isalpha():\n",
    "            qu.append(x.lower())\n",
    "            st.append(x.lower())\n",
    "            \n",
    "    while qu:            \n",
    "        if qu.pop(0) != st.pop():\n",
    "            return False\n",
    "    return True\n",
    "\n",
    "print(palindrome(\"Wow\"))\n",
    "print(palindrome(\"Madam, I'm Adam.\"))\n",
    "print(palindrome(\"Madam, I am Adam.\"))"
   ]
  },
  {
   "cell_type": "code",
   "execution_count": 123,
   "metadata": {},
   "outputs": [
    {
     "name": "stdout",
     "output_type": "stream",
     "text": [
      "['M', 'A', 'D', 'A', 'M', 'I', 'M', 'A', 'D', 'A', 'M']\n"
     ]
    }
   ],
   "source": [
    "qu = []\n",
    "for x in \"Madam, I'm Adam.\":\n",
    "    if x.isalpha():\n",
    "        qu.append(x.upper())\n",
    "\n",
    "print(qu)"
   ]
  },
  {
   "cell_type": "markdown",
   "metadata": {},
   "source": [
    "# 연습문제"
   ]
  },
  {
   "cell_type": "markdown",
   "metadata": {},
   "source": [
    "# 13-1"
   ]
  },
  {
   "cell_type": "code",
   "execution_count": 132,
   "metadata": {},
   "outputs": [
    {
     "name": "stdout",
     "output_type": "stream",
     "text": [
      "True\n",
      "True\n",
      "False\n"
     ]
    }
   ],
   "source": [
    "def palindrome(s):\n",
    "    str = []\n",
    "    for x in s:\n",
    "        if x.isalpha():\n",
    "            str.append(x.lower())\n",
    "    mid = len(s) // 2\n",
    "    for i in range(mid + 1):\n",
    "        if str[i] != str[-1 - i]:\n",
    "            return False\n",
    "    return True\n",
    "\n",
    "print(palindrome(\"Wow\"))\n",
    "print(palindrome(\"Madam, I'm Adam.\"))\n",
    "print(palindrome(\"Madam, I am Adam.\"))"
   ]
  },
  {
   "cell_type": "code",
   "execution_count": 133,
   "metadata": {},
   "outputs": [
    {
     "name": "stdout",
     "output_type": "stream",
     "text": [
      "True\n",
      "True\n",
      "False\n"
     ]
    }
   ],
   "source": [
    "# 주어진 문장이 회문인지 확인(문자열의 앞뒤를 서로 비교)\n",
    "# 입력: 문자열 s \n",
    "# 출력: 회문이면 True, 아니면 False\n",
    "\n",
    "def palindrome(s):\n",
    "    i = 0          # 문자열의 앞에서 비교할 위치\n",
    "    j = len(s) - 1 # 문자열의 뒤에서 비교할 위치\n",
    "    while i < j:   # 중간까지만 검사하면 됨\n",
    "        # i 위치에 있는 문자가 알파벳 문자가 아니면 뒤로 이동\n",
    "        if s[i].isalpha() == False:\n",
    "            i += 1\n",
    "        # j 위치에 있는 문자가 알파벳 문자가 아니면 앞으로 이동\n",
    "        elif s[j].isalpha() == False:\n",
    "            j -= 1\n",
    "        # i, j 위치 둘다 알파벳 문자가 있으면 두 문자를 비교하고 다르면 회문이 아님\n",
    "        elif s[i].lower() != s[j].lower():\n",
    "            return False\n",
    "        # i와 j 위치에 두 문자를 비교하고 같으면 다음 비교 대상으로 넘어감\n",
    "        else:\n",
    "            i += 1\n",
    "            j -= 1\n",
    "\n",
    "    return True\n",
    "\n",
    "print(palindrome(\"Wow\"))\n",
    "print(palindrome(\"Madam, I’m Adam.\"))\n",
    "print(palindrome(\"Madam, I am Adam.\"))"
   ]
  },
  {
   "cell_type": "markdown",
   "metadata": {},
   "source": [
    "# 14-1"
   ]
  },
  {
   "cell_type": "code",
   "execution_count": 230,
   "metadata": {},
   "outputs": [
    {
     "name": "stdout",
     "output_type": "stream",
     "text": [
      "{'Tom'}\n",
      "{'Mike', 'Tom'}\n"
     ]
    }
   ],
   "source": [
    "def find_same_name(a):\n",
    "    name_dict = dict()\n",
    "    for name in a:\n",
    "        if name in name_dict:\n",
    "            name_dict[name] += 1\n",
    "        else:\n",
    "            name_dict[name] = 1\n",
    "    result = set()\n",
    "    for name in name_dict:\n",
    "        if name_dict[name] >= 2:\n",
    "            result.add(name)\n",
    "    return result\n",
    "\n",
    "name = [\"Tom\", \"Jerry\", \"Mike\", \"Tom\"]\n",
    "print(find_same_name(name))\n",
    "\n",
    "name2 = [\"Tom\", \"Jerry\", \"Mike\", \"Tom\", \"Mike\"]\n",
    "print(find_same_name(name2))"
   ]
  },
  {
   "cell_type": "markdown",
   "metadata": {},
   "source": [
    "# 연습문제"
   ]
  },
  {
   "cell_type": "markdown",
   "metadata": {},
   "source": [
    "# 14-1"
   ]
  },
  {
   "cell_type": "code",
   "execution_count": 241,
   "metadata": {},
   "outputs": [
    {
     "name": "stdout",
     "output_type": "stream",
     "text": [
      "Justin\n",
      "John\n",
      "Mike\n",
      "Summer\n",
      "?\n"
     ]
    }
   ],
   "source": [
    "def find_stu(dict, num):\n",
    "    if num in dict:\n",
    "        return dict[num]\n",
    "    else:\n",
    "        return \"?\"\n",
    "\n",
    "\n",
    "d = dict({39: \"Justin\", 14: \"John\", 67: \"Mike\", 105: \"Summer\"})\n",
    "print(find_stu(d, 39))\n",
    "print(find_stu(d, 14))\n",
    "print(find_stu(d, 67))\n",
    "print(find_stu(d, 105))\n",
    "print(find_stu(d, 38))"
   ]
  },
  {
   "cell_type": "markdown",
   "metadata": {},
   "source": [
    "# 15-1 모든 친구를 찾는 알고리즘"
   ]
  },
  {
   "cell_type": "code",
   "execution_count": 267,
   "metadata": {},
   "outputs": [
    {
     "name": "stdout",
     "output_type": "stream",
     "text": [
      "Summer\n",
      "John\n",
      "Justin\n",
      "Mike\n",
      "May\n",
      "Kim\n",
      "\n",
      "Jerry\n",
      "Tom\n"
     ]
    }
   ],
   "source": [
    "def print_all_friends(g, start):\n",
    "    qu = []\n",
    "    done = set()\n",
    "    \n",
    "    qu.append(start)\n",
    "    done.add(start)\n",
    "    \n",
    "    while qu:\n",
    "        p = qu.pop(0)\n",
    "        print(p)\n",
    "        for x in g[p]:\n",
    "            if x not in done:\n",
    "                qu.append(x)\n",
    "                done.add(x)\n",
    "\n",
    "\n",
    "\n",
    "fr_info = {\n",
    "    \"Summer\": [\"John\", \"Justin\", \"Mike\"],\n",
    "    'John': [\"Summer\", \"Justin\"],\n",
    "    \"Justin\": [\"John\", \"Summer\", \"Mike\", \"May\"],\n",
    "    \"Mike\": [\"Summer\", \"Justin\"],\n",
    "    \"May\": [\"Justin\", \"Kim\"],\n",
    "    \"Kim\": [\"May\"],\n",
    "    \"Tom\": [\"Jerry\"],\n",
    "    \"Jerry\": [\"Tom\"]\n",
    "}\n",
    "fr_info\n",
    "\n",
    "print_all_friends(fr_info, \"Summer\")\n",
    "print()\n",
    "print_all_friends(fr_info, \"Jerry\")"
   ]
  },
  {
   "cell_type": "markdown",
   "metadata": {},
   "source": [
    "# 15-2 모든 친구를 찾아서 친밀도를 계산하는 알고리즘"
   ]
  },
  {
   "cell_type": "code",
   "execution_count": 286,
   "metadata": {},
   "outputs": [
    {
     "name": "stdout",
     "output_type": "stream",
     "text": [
      "Summer 0\n",
      "John 1\n",
      "Justin 1\n",
      "Mike 1\n",
      "May 2\n",
      "Kim 3\n",
      "\n",
      "Jerry 0\n",
      "Tom 1\n"
     ]
    }
   ],
   "source": [
    "def print_all_friends(g, start):\n",
    "    qu = []\n",
    "    done = set()\n",
    "    \n",
    "    qu.append((start, 0))\n",
    "    done.add(start)\n",
    "    \n",
    "    while qu:\n",
    "        (p, d) = qu.pop(0)\n",
    "        print(p, d)\n",
    "        for x in g[p]:\n",
    "            if x not in done:\n",
    "                qu.append((x, d + 1))\n",
    "                done.add(x)\n",
    "\n",
    "\n",
    "\n",
    "fr_info = {\n",
    "    \"Summer\": [\"John\", \"Justin\", \"Mike\"],\n",
    "    'John': [\"Summer\", \"Justin\"],\n",
    "    \"Justin\": [\"John\", \"Summer\", \"Mike\", \"May\"],\n",
    "    \"Mike\": [\"Summer\", \"Justin\"],\n",
    "    \"May\": [\"Justin\", \"Kim\"],\n",
    "    \"Kim\": [\"May\"],\n",
    "    \"Tom\": [\"Jerry\"],\n",
    "    \"Jerry\": [\"Tom\"]\n",
    "}\n",
    "fr_info\n",
    "\n",
    "print_all_friends(fr_info, \"Summer\")\n",
    "print()\n",
    "print_all_friends(fr_info, \"Jerry\")"
   ]
  },
  {
   "cell_type": "code",
   "execution_count": 288,
   "metadata": {},
   "outputs": [
    {
     "name": "stdout",
     "output_type": "stream",
     "text": [
      "1\n",
      "2\n",
      "3\n",
      "4\n",
      "5\n"
     ]
    }
   ],
   "source": [
    "# 그래프 탐색: 너비 우선 탐색\n",
    "# 입력: 그래프 g, 탐색 시작점 start\n",
    "# 출력: start에서 출발해 연결된 꼭짓점들을 출력\n",
    "\n",
    "def bfs(g, start):\n",
    "    qu = []          # 기억 장소 1: 앞으로 처리해야 할 꼭짓점을 큐에 저장\n",
    "    done = set()     # 기억 장소 2: 이미 큐에 추가한 꼭짓점들을 집합에 기록(중복 방지)\n",
    "\n",
    "    qu.append(start) # 시작점을 큐에 넣고 시작\n",
    "    done.add(start)  # 집합에도 추가\n",
    "\n",
    "    while qu:                  # 큐에 처리할 꼭짓점이 남아있으면\n",
    "        p = qu.pop(0)          # 큐에서 처리 대상을 꺼내어\n",
    "        print(p)               # 꼭짓점 이름을 출력하고\n",
    "        for x in g[p]:         # 대상 꼭짓점에 연결된 꼭짓점들 중에\n",
    "            if x not in done:  # 아직 큐에 추가된 적이 없는 꼭짓점들을\n",
    "                qu.append(x)   # 큐에 추가하고\n",
    "                done.add(x)    # 집합에도 추가\n",
    "\n",
    "# 그래프 정보\n",
    "g = {\n",
    "    1: [2, 3],\n",
    "    2: [1, 4, 5],\n",
    "    3: [1],\n",
    "    4: [2],\n",
    "    5: [2]\n",
    "}\n",
    "\n",
    "bfs(g, 1)"
   ]
  },
  {
   "cell_type": "markdown",
   "metadata": {},
   "source": [
    "# 17-1"
   ]
  },
  {
   "cell_type": "code",
   "execution_count": 295,
   "metadata": {},
   "outputs": [
    {
     "name": "stdout",
     "output_type": "stream",
     "text": [
      "29\n"
     ]
    }
   ],
   "source": [
    "def weigh(a, b, c, d):\n",
    "    fake = 29\n",
    "    if a <= fake and fake <= b:\n",
    "        return -1\n",
    "    if c <= fake and fake <= d:\n",
    "        return 1\n",
    "    return 0\n",
    "\n",
    "def find_fakecoin(left, right):\n",
    "    for i in range(left, right):\n",
    "        result = weigh(left, left, i, i)\n",
    "        if result == -1:\n",
    "            return left\n",
    "        elif result == 1:\n",
    "            return i\n",
    "    return -1\n",
    "\n",
    "n = 100\n",
    "print(find_fakecoin(0, n))"
   ]
  },
  {
   "cell_type": "markdown",
   "metadata": {},
   "source": [
    "# 17-2"
   ]
  },
  {
   "cell_type": "code",
   "execution_count": 299,
   "metadata": {},
   "outputs": [
    {
     "name": "stdout",
     "output_type": "stream",
     "text": [
      "29\n"
     ]
    }
   ],
   "source": [
    "def weigh(a, b, c, d):\n",
    "    fake = 29\n",
    "    if a <= fake and fake <= b:\n",
    "        return -1\n",
    "    if c <= fake and fake <= d:\n",
    "        return 1\n",
    "    return 0\n",
    "\n",
    "def find_fakecoin(left, right):\n",
    "    \n",
    "    if left == right:\n",
    "        return left\n",
    "    half = (right - left + 1) // 2\n",
    "    g1_left = left\n",
    "    g1_right = left + half - 1\n",
    "    g2_left = left + half\n",
    "    g2_right = g2_left + half - 1\n",
    "    \n",
    "    result = weigh(g1_left, g1_right, g2_left, g2_right)\n",
    "    if result == -1:\n",
    "        return find_fakecoin(g1_left, g1_right)\n",
    "    elif result == 1:\n",
    "        return find_fakecoin(g2_left, g2_right)\n",
    "    else:\n",
    "        return right\n",
    "    \n",
    "n = 100\n",
    "print(find_fakecoin(0, n - 1))"
   ]
  },
  {
   "cell_type": "markdown",
   "metadata": {},
   "source": [
    "# 18-1"
   ]
  },
  {
   "cell_type": "code",
   "execution_count": 303,
   "metadata": {},
   "outputs": [
    {
     "name": "stdout",
     "output_type": "stream",
     "text": [
      "2400\n"
     ]
    }
   ],
   "source": [
    "def cal_profit(stock):\n",
    "    profit = 0\n",
    "    for i in range(len(stock) - 1):\n",
    "        for j in range(i + 1, len(stock)):\n",
    "            if stock[j] - stock[i] > profit:\n",
    "                profit = stock[j] - stock[i]\n",
    "    return profit\n",
    "    \n",
    "\n",
    "stock = [10300, 9600, 9800, 8200, 7800, 8300, 9500, 9800, 10200, 9500]\n",
    "print(cal_profit(stock))"
   ]
  },
  {
   "cell_type": "markdown",
   "metadata": {},
   "source": [
    "# 18-2"
   ]
  },
  {
   "cell_type": "code",
   "execution_count": 308,
   "metadata": {},
   "outputs": [
    {
     "name": "stdout",
     "output_type": "stream",
     "text": [
      "2400\n"
     ]
    }
   ],
   "source": [
    "def max_profit(prices):\n",
    "    n = len(prices)\n",
    "    max_profit = 0\n",
    "    min_price = prices[0]\n",
    "    for i in range(1, n):\n",
    "        profit = prices[i] - min_price\n",
    "        if profit > max_profit:\n",
    "            max_profit = profit\n",
    "        if prices[i] < min_price:\n",
    "            min_price = prices[i]\n",
    "    return max_profit\n",
    "\n",
    "stock = [10300, 9600, 9800, 8200, 7800, 8300, 9500, 9800, 10200, 9500]\n",
    "print(max_profit(stock))"
   ]
  },
  {
   "cell_type": "code",
   "execution_count": 363,
   "metadata": {},
   "outputs": [
    {
     "name": "stdout",
     "output_type": "stream",
     "text": [
      "100 14608 14608\n",
      "100 0.00100 0.00000 0.00\n"
     ]
    }
   ],
   "source": [
    "# 최대 수익 문제를 푸는 두 알고리즘의 계산 속도 비교하기\n",
    "# 최대 수익 문제를 O(n*n)과 O(n)으로 푸는 알고리즘을 각각 수행하여\n",
    "# 걸린 시간을 출력/비교함\n",
    "\n",
    "import time     # 시간 측정을 위한 time 모듈\n",
    "import random  # 테스트 주가 생성을 위한 random 모듈\n",
    "\n",
    "# 최대 수익: 느린 O(n*n) 알고리즘\n",
    "def max_profit_slow(prices):\n",
    "    n = len(prices)\n",
    "    max_profit = 0\n",
    "\n",
    "    for i in range(0, n - 1):\n",
    "        for j in range(i + 1, n):\n",
    "            profit = prices[j] - prices[i]\n",
    "            if profit > max_profit:\n",
    "                max_profit = profit\n",
    "\n",
    "    return max_profit\n",
    "\n",
    "# 최대 수익: 빠른 O(n) 알고리즘\n",
    "def max_profit_fast(prices):\n",
    "    n = len(prices)\n",
    "    max_profit = 0\n",
    "    min_price = prices[0]\n",
    "\n",
    "    for i in range(1, n):\n",
    "        profit = prices[i] - min_price\n",
    "        if profit > max_profit:\n",
    "            max_profit = profit\n",
    "        if prices[i] < min_price:\n",
    "            min_price = prices[i]\n",
    "\n",
    "    return max_profit\n",
    "\n",
    "def test(n):\n",
    "    # 테스트 자료 만들기(5000부터 20000까지의 난수를 주가로 사용)\n",
    "    a = []\n",
    "    for i in range(0, n):\n",
    "        a.append(random.randint(5000, 20000))\n",
    "    # 느린 O(n*n) 알고리즘 테스트\n",
    "    start = time.time()       # 계산 시작 직전 시각을 기억\n",
    "    mps = max_profit_slow(a)  # 계산 수행\n",
    "    end = time.time()         # 계산 시작 직후 시각을 기억\n",
    "    time_slow = end - start   # 두 시각을 빼면 계산에 걸린 시간\n",
    "    # 빠른 O(n) 알고리즘 테스트\n",
    "    start = time.time()       # 계산 시작 직전 시각을 기억\n",
    "    mpf = max_profit_fast(a)  # 계산 수행\n",
    "    end = time.time()         # 계산 시작 직후 시각을 기억\n",
    "    time_fast = end - start   # 두 시각을 빼면 계산에 걸린 시간\n",
    "    # 결과 출력: 계산 결과\n",
    "    print(n, mps, mpf)  # 입력 크기, 각각 알고리즘이 계산한 최대 수익 값(같아야 함)\n",
    "    # 결과 출력: 계산 시간 비교\n",
    "    m = 0  # 느린 알고리즘과 빠른 알고리즘의 수행 시간 비율을 저장할 변수\n",
    "    if time_fast > 0:  # 컴퓨터 환경에 따라 빠른 알고리즘 시간이 0으로 측정될 수 있음(이럴 때는 0을 출력)\n",
    "        m = time_slow / time_fast  # 느린 알고리즘 시간 / 빠른 알고리즘 시간\n",
    "    # 입력 크기, 느린 알고리즘 수행 시간, 빠른 알고리즘 수행 시간, 느린 알고리즘 시간 / 빠른 알고리즘 시간\n",
    "    # %d는 정수 출력, %.5f는 소수점 다섯 자리까지 출력을 의미\n",
    "    print(\"%d %.5f %.5f %.2f\" % (n, time_slow, time_fast, m))\n",
    "\n",
    "test(100)\n",
    "#test(10000)\n",
    "#test(100000)  # 수행 시간이 오래 걸리므로 일단 주석 처리\n"
   ]
  }
 ],
 "metadata": {
  "kernelspec": {
   "display_name": "Python 3",
   "language": "python",
   "name": "python3"
  },
  "language_info": {
   "codemirror_mode": {
    "name": "ipython",
    "version": 3
   },
   "file_extension": ".py",
   "mimetype": "text/x-python",
   "name": "python",
   "nbconvert_exporter": "python",
   "pygments_lexer": "ipython3",
   "version": "3.7.6"
  }
 },
 "nbformat": 4,
 "nbformat_minor": 4
}
