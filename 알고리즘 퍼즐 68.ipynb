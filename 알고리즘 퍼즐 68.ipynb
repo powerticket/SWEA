{
 "cells": [
  {
   "cell_type": "markdown",
   "metadata": {},
   "source": [
    "# 1. 앞뒤가 같은 10진수 만들기"
   ]
  },
  {
   "cell_type": "code",
   "execution_count": 38,
   "metadata": {},
   "outputs": [
    {
     "data": {
      "text/plain": [
       "585"
      ]
     },
     "execution_count": 38,
     "metadata": {},
     "output_type": "execute_result"
    }
   ],
   "source": [
    "def palindrome(l):\n",
    "    n = len(l)\n",
    "    for i in range(n // 2):\n",
    "        if l[i] != l[-1 - i]:\n",
    "            return False\n",
    "    return True\n",
    "\n",
    "\n",
    "def trans_digit(n, d):\n",
    "    result = []\n",
    "    number = n\n",
    "    digit = d\n",
    "    while number >= 1:\n",
    "        result.append(number % digit)\n",
    "        number = number // digit\n",
    "    return result\n",
    "\n",
    "def find_palindrome():\n",
    "    i = 10\n",
    "    while True:\n",
    "        if palindrome(trans_digit(i, 2)) and palindrome(trans_digit(i, 8)) and palindrome(trans_digit(i, 10)):\n",
    "            return i\n",
    "        i += 1\n",
    "find_palindrome()"
   ]
  },
  {
   "cell_type": "code",
   "execution_count": 5,
   "metadata": {},
   "outputs": [
    {
     "name": "stdout",
     "output_type": "stream",
     "text": [
      "585\n",
      "585\n",
      "1111\n",
      "1001001001\n"
     ]
    }
   ],
   "source": [
    "num = 11\n",
    "\n",
    "num_10 = str(num)\n",
    "num_8 = oct(num).replace(\"0o\", \"\")\n",
    "num_2 = bin(num).replace(\"0b\", \"\")\n",
    "\n",
    "while True:\n",
    "    num_10 = str(num)\n",
    "    num_8 = \"{0:o}\".format(num)\n",
    "    num_2 = \"{0:b}\".format(num)\n",
    "    if num_10 == num_10[::-1] and num_8 == num_8[::-1] and num_2 == num_2[::-1]:\n",
    "        print(num)\n",
    "        print(num_10)\n",
    "        print(num_8)\n",
    "        print(num_2)\n",
    "        break\n",
    "    num += 2"
   ]
  },
  {
   "cell_type": "code",
   "execution_count": null,
   "metadata": {},
   "outputs": [],
   "source": []
  }
 ],
 "metadata": {
  "kernelspec": {
   "display_name": "Python 3",
   "language": "python",
   "name": "python3"
  },
  "language_info": {
   "codemirror_mode": {
    "name": "ipython",
    "version": 3
   },
   "file_extension": ".py",
   "mimetype": "text/x-python",
   "name": "python",
   "nbconvert_exporter": "python",
   "pygments_lexer": "ipython3",
   "version": "3.7.6"
  }
 },
 "nbformat": 4,
 "nbformat_minor": 4
}
