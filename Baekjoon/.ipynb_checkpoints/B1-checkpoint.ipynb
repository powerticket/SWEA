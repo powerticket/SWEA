{
 "cells": [
  {
   "cell_type": "code",
   "execution_count": 8,
   "metadata": {},
   "outputs": [
    {
     "name": "stdout",
     "output_type": "stream",
     "text": [
      "3\n",
      "61 61 61\n",
      "Y M 90\n"
     ]
    }
   ],
   "source": [
    "T = int(input())\n",
    "time_list = list(map(int, input().split()))\n",
    "Y = 0\n",
    "M = 0\n",
    "for time in time_list:\n",
    "    Y += 10 * (time//30 + bool(time%30))\n",
    "    M += 15 * (time//60 + bool(time%60))\n",
    "if Y < M:\n",
    "    print('Y', Y)\n",
    "elif Y > M:\n",
    "    print('M', M)\n",
    "else:\n",
    "    print('Y M', Y)"
   ]
  }
 ],
 "metadata": {
  "kernelspec": {
   "display_name": "Python 3",
   "language": "python",
   "name": "python3"
  },
  "language_info": {
   "codemirror_mode": {
    "name": "ipython",
    "version": 3
   },
   "file_extension": ".py",
   "mimetype": "text/x-python",
   "name": "python",
   "nbconvert_exporter": "python",
   "pygments_lexer": "ipython3",
   "version": "3.7.7"
  }
 },
 "nbformat": 4,
 "nbformat_minor": 4
}
